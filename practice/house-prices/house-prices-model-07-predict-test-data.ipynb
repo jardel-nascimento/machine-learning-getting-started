{
 "cells": [
  {
   "cell_type": "code",
   "execution_count": 2,
   "metadata": {},
   "outputs": [],
   "source": [
    "# libraries\n",
    "import pandas as pd"
   ]
  },
  {
   "cell_type": "code",
   "execution_count": 3,
   "metadata": {},
   "outputs": [],
   "source": [
    "# get datasets\n",
    "train = pd.read_csv(\"https://raw.githubusercontent.com/jardel-nascimento/machine-learning-getting-started/main/datasets/housing-prices/train.csv\")\n",
    "test = pd.read_csv(\"https://raw.githubusercontent.com/jardel-nascimento/machine-learning-getting-started/main/datasets/housing-prices/test.csv\")"
   ]
  },
  {
   "cell_type": "code",
   "execution_count": 4,
   "metadata": {},
   "outputs": [],
   "source": [
    "# select the target prediction\n",
    "y = train['SalePrice']"
   ]
  },
  {
   "cell_type": "code",
   "execution_count": 5,
   "metadata": {},
   "outputs": [],
   "source": [
    "# select features\n",
    "features = ['LotArea','YearBuilt','1stFlrSF','2ndFlrSF','FullBath','BedroomAbvGr','TotRmsAbvGrd']\n",
    "x = train[features]"
   ]
  },
  {
   "cell_type": "code",
   "execution_count": 6,
   "metadata": {},
   "outputs": [],
   "source": [
    "# review data\n",
    "# print description or statistics from X\n",
    "# print(x.describe().T)\n",
    "# print('\\n\\n')\n",
    "\n",
    "# print the top few lines\n",
    "# print(x.head())"
   ]
  },
  {
   "cell_type": "code",
   "execution_count": 7,
   "metadata": {},
   "outputs": [],
   "source": [
    "# split train validation\n",
    "from sklearn.model_selection import train_test_split as tts\n",
    "tx, vx, ty, vy = tts(x,y,random_state=0)"
   ]
  },
  {
   "cell_type": "code",
   "execution_count": 8,
   "metadata": {},
   "outputs": [],
   "source": [
    "# define the model and validation \"NOW RANDOM FORESTS\"\n",
    "from sklearn.ensemble import RandomForestRegressor as rfr\n",
    "from sklearn.metrics import mean_absolute_error as mae"
   ]
  },
  {
   "cell_type": "code",
   "execution_count": 9,
   "metadata": {},
   "outputs": [],
   "source": [
    "# create function to compare scores by max leafs\n",
    "def get_mae(leaf_nodes,tx,vx,ty,vy):\n",
    "    # set the model\n",
    "    model = rfr(max_leaf_nodes=leaf_nodes, random_state=0)\n",
    "    # fit model\n",
    "    model.fit(tx,ty)\n",
    "    # predict\n",
    "    vp = model.predict(vx)\n",
    "    # define validation\n",
    "    return(mae(vy, vp))"
   ]
  },
  {
   "cell_type": "code",
   "execution_count": 10,
   "metadata": {},
   "outputs": [],
   "source": [
    "# compare mae for the diferent max leafs values\n",
    "#df_mae = []\n",
    "#df_nodes = []\n",
    "#for leaf_nodes in range(2,5002, 2):\n",
    "#    df_mae.append(get_mae(leaf_nodes,tx,vx,ty,vy))\n",
    "#    df_nodes.append(leaf_nodes)\n",
    "\n",
    "# select max leaf nodes for minimum mae\n",
    "#tests = pd.DataFrame({'nodes': df_nodes, 'mae': df_mae})\n",
    "#great = tests.loc[tests.query('mae != 0')['mae'].idxmin()]\n",
    "#print(great)\n",
    "\n",
    "# the great result is: 64 nodes to 22580.67 of mae"
   ]
  },
  {
   "cell_type": "code",
   "execution_count": 11,
   "metadata": {},
   "outputs": [],
   "source": [
    "# generate prediction to test data\n",
    "\n",
    "# set new model\n",
    "model = rfr(max_leaf_nodes=64, random_state=0)\n",
    "\n",
    "# fit new model to full train data\n",
    "model.fit(x,y)\n",
    "\n",
    "# set test data\n",
    "x = test[features]\n",
    "\n",
    "# predict test data\n",
    "p = model.predict(x)"
   ]
  },
  {
   "cell_type": "code",
   "execution_count": 13,
   "metadata": {},
   "outputs": [],
   "source": [
    "# export submission csv file\n",
    "output = pd.DataFrame({'Id': test.Id,\n",
    "                       'SalePrice': p})\n",
    "output.to_csv('submission.csv', index=False)"
   ]
  }
 ],
 "metadata": {
  "kernelspec": {
   "display_name": "Python 3.9.7 ('base')",
   "language": "python",
   "name": "python3"
  },
  "language_info": {
   "codemirror_mode": {
    "name": "ipython",
    "version": 3
   },
   "file_extension": ".py",
   "mimetype": "text/x-python",
   "name": "python",
   "nbconvert_exporter": "python",
   "pygments_lexer": "ipython3",
   "version": "3.9.7"
  },
  "orig_nbformat": 4,
  "vscode": {
   "interpreter": {
    "hash": "b8e8fcda5ff998491ea47ac16f7b295ce1080ddf19fd589ff7f31d79da49677d"
   }
  }
 },
 "nbformat": 4,
 "nbformat_minor": 2
}
