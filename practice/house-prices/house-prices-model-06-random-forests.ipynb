{
 "cells": [
  {
   "cell_type": "code",
   "execution_count": 1,
   "metadata": {},
   "outputs": [],
   "source": [
    "# libraries\n",
    "import pandas as pd"
   ]
  },
  {
   "cell_type": "code",
   "execution_count": 2,
   "metadata": {},
   "outputs": [],
   "source": [
    "# get datasets\n",
    "train = pd.read_csv(\"https://raw.githubusercontent.com/jardel-nascimento/machine-learning-getting-started/main/datasets/housing-prices/train.csv\")\n",
    "test = pd.read_csv(\"https://raw.githubusercontent.com/jardel-nascimento/machine-learning-getting-started/main/datasets/housing-prices/test.csv\")"
   ]
  },
  {
   "cell_type": "code",
   "execution_count": 3,
   "metadata": {},
   "outputs": [],
   "source": [
    "# select the target prediction\n",
    "y = train['SalePrice']"
   ]
  },
  {
   "cell_type": "code",
   "execution_count": 4,
   "metadata": {},
   "outputs": [],
   "source": [
    "# select features\n",
    "features = ['LotArea','YearBuilt','1stFlrSF','2ndFlrSF','FullBath','BedroomAbvGr','TotRmsAbvGrd']\n",
    "x = train[features]"
   ]
  },
  {
   "cell_type": "code",
   "execution_count": 5,
   "metadata": {},
   "outputs": [],
   "source": [
    "# review data\n",
    "# print description or statistics from X\n",
    "# print(x.describe().T)\n",
    "# print('\\n\\n')\n",
    "\n",
    "# print the top few lines\n",
    "# print(x.head())"
   ]
  },
  {
   "cell_type": "code",
   "execution_count": 6,
   "metadata": {},
   "outputs": [],
   "source": [
    "# split train validation\n",
    "from sklearn.model_selection import train_test_split as tts\n",
    "tx, vx, ty, vy = tts(x,y,random_state=0)"
   ]
  },
  {
   "cell_type": "code",
   "execution_count": 11,
   "metadata": {},
   "outputs": [],
   "source": [
    "# define the model and validation \"NOW RANDOM FORESTS\"\n",
    "from sklearn.ensemble import RandomForestRegressor as rfr\n",
    "from sklearn.metrics import mean_absolute_error as mae"
   ]
  },
  {
   "cell_type": "code",
   "execution_count": 12,
   "metadata": {},
   "outputs": [],
   "source": [
    "# create function to compare scores by max leafs\n",
    "def get_mae(leaf_nodes,tx,vx,ty,vy):\n",
    "    # set the model\n",
    "    model = rfr(max_leaf_nodes=leaf_nodes, random_state=0)\n",
    "    # fit model\n",
    "    model.fit(tx,ty)\n",
    "    # predict\n",
    "    vp = model.predict(vx)\n",
    "    # define validation\n",
    "    return(mae(vy, vp))"
   ]
  },
  {
   "cell_type": "code",
   "execution_count": 13,
   "metadata": {},
   "outputs": [],
   "source": [
    "# compare mae for the diferent max leafs values\n",
    "df_mae = []\n",
    "df_nodes = []\n",
    "for leaf_nodes in range(2,5002, 2):\n",
    "    df_mae.append(get_mae(leaf_nodes,tx,vx,ty,vy))\n",
    "    df_nodes.append(leaf_nodes)"
   ]
  },
  {
   "cell_type": "code",
   "execution_count": 14,
   "metadata": {},
   "outputs": [
    {
     "name": "stdout",
     "output_type": "stream",
     "text": [
      "nodes       64.000000\n",
      "mae      22580.674335\n",
      "Name: 31, dtype: float64\n"
     ]
    }
   ],
   "source": [
    "# select max leaf nodes for minimum mae\n",
    "tests = pd.DataFrame({'nodes': df_nodes, 'mae': df_mae})\n",
    "great = tests.loc[tests.query('mae != 0')['mae'].idxmin()]\n",
    "print(great)"
   ]
  }
 ],
 "metadata": {
  "kernelspec": {
   "display_name": "Python 3.9.7 ('base')",
   "language": "python",
   "name": "python3"
  },
  "language_info": {
   "codemirror_mode": {
    "name": "ipython",
    "version": 3
   },
   "file_extension": ".py",
   "mimetype": "text/x-python",
   "name": "python",
   "nbconvert_exporter": "python",
   "pygments_lexer": "ipython3",
   "version": "3.9.7"
  },
  "orig_nbformat": 4,
  "vscode": {
   "interpreter": {
    "hash": "b8e8fcda5ff998491ea47ac16f7b295ce1080ddf19fd589ff7f31d79da49677d"
   }
  }
 },
 "nbformat": 4,
 "nbformat_minor": 2
}
