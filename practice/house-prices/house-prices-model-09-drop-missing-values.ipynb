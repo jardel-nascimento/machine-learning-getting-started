{
 "cells": [
  {
   "cell_type": "code",
   "execution_count": 11,
   "metadata": {},
   "outputs": [],
   "source": [
    "# libraries\n",
    "import pandas as pd"
   ]
  },
  {
   "cell_type": "code",
   "execution_count": 12,
   "metadata": {},
   "outputs": [],
   "source": [
    "# get datasets\n",
    "train = pd.read_csv(\"https://raw.githubusercontent.com/jardel-nascimento/machine-learning-getting-started/main/datasets/housing-prices/train.csv\")\n",
    "test = pd.read_csv(\"https://raw.githubusercontent.com/jardel-nascimento/machine-learning-getting-started/main/datasets/housing-prices/test.csv\")"
   ]
  },
  {
   "cell_type": "code",
   "execution_count": 13,
   "metadata": {},
   "outputs": [],
   "source": [
    "# select the target prediction\n",
    "train.dropna(axis=0,subset=['SalePrice'], inplace=True)\n",
    "y = train['SalePrice']\n",
    "train.drop(['SalePrice'], axis=1, inplace=True)"
   ]
  },
  {
   "cell_type": "code",
   "execution_count": 14,
   "metadata": {},
   "outputs": [],
   "source": [
    "# select features\n",
    "x = train.select_dtypes(exclude=['object'])\n",
    "xt = test.select_dtypes(exclude=['object'])"
   ]
  },
  {
   "cell_type": "code",
   "execution_count": 32,
   "metadata": {},
   "outputs": [],
   "source": [
    "# drop columns with missed values\n",
    "cols_with_missing = [col for col in x.columns if xt[col].isnull().any()]\n",
    "x = x.drop(cols_with_missing, axis=1)\n",
    "cols_with_missing = [col for col in xt.columns if xt[col].isnull().any()]\n",
    "xt = xt.drop(cols_with_missing, axis=1)"
   ]
  },
  {
   "cell_type": "code",
   "execution_count": 33,
   "metadata": {},
   "outputs": [
    {
     "name": "stdout",
     "output_type": "stream",
     "text": [
      "(1459, 26)\n"
     ]
    }
   ],
   "source": [
    "#print(x.shape)\n",
    "#print(xt.shape)"
   ]
  },
  {
   "cell_type": "code",
   "execution_count": 34,
   "metadata": {},
   "outputs": [],
   "source": [
    "# split train validation\n",
    "from sklearn.model_selection import train_test_split as tts\n",
    "tx, vx, ty, vy = tts(x,y, train_size=0.8, test_size=0.2, random_state=0)"
   ]
  },
  {
   "cell_type": "code",
   "execution_count": 35,
   "metadata": {},
   "outputs": [],
   "source": [
    "# review data\n",
    "# print description or statistics from X\n",
    "# print(x.describe().T)\n",
    "# print('\\n\\n')\n",
    "\n",
    "# print the top few lines\n",
    "# print(x.head())"
   ]
  },
  {
   "cell_type": "code",
   "execution_count": 36,
   "metadata": {},
   "outputs": [],
   "source": [
    "# define the model and validation \"NOW RANDOM FORESTS\"\n",
    "from sklearn.ensemble import RandomForestRegressor as rfr\n",
    "from sklearn.metrics import mean_absolute_error as mae"
   ]
  },
  {
   "cell_type": "code",
   "execution_count": 37,
   "metadata": {},
   "outputs": [],
   "source": [
    "# define models\n",
    "model_1 = rfr(n_estimators=50, random_state=0)\n",
    "model_2 = rfr(n_estimators=100, random_state=0)\n",
    "model_3 = rfr(n_estimators=100, criterion='mae', random_state=0)\n",
    "model_4 = rfr(n_estimators=200, min_samples_split=20, random_state=0)\n",
    "model_5 = rfr(n_estimators=100, max_depth=7, random_state=0)\n",
    "\n",
    "# list models\n",
    "models = [model_1,model_2,model_3,model_4,model_5]"
   ]
  },
  {
   "cell_type": "code",
   "execution_count": 38,
   "metadata": {},
   "outputs": [],
   "source": [
    "# create function to compare scores\n",
    "def get_mae(model,tx=tx,vx=vx,ty=ty,vy=vy):\n",
    "    # fit model\n",
    "    model.fit(tx,ty)\n",
    "    # predict\n",
    "    vp = model.predict(vx)\n",
    "    # define validation\n",
    "    return(mae(vy, vp))"
   ]
  },
  {
   "cell_type": "code",
   "execution_count": 41,
   "metadata": {},
   "outputs": [
    {
     "name": "stdout",
     "output_type": "stream",
     "text": [
      "the great result is in model 1 with score 19149.20113013699.\n"
     ]
    }
   ],
   "source": [
    "# compare mae for the diferent models\n",
    "df_mae = []\n",
    "df_models = []\n",
    "for i in range(0, len(models)):\n",
    "    #print(get_mae(models[i]))\n",
    "    df_mae.append(get_mae(models[i]))\n",
    "    df_models.append(f'model {i}')\n",
    "\n",
    "# select max leaf nodes for minimum mae\n",
    "tests = pd.DataFrame({'model': df_models, 'mae': df_mae})\n",
    "great = tests.loc[tests.query('mae != 0')['mae'].idxmin()]\n",
    "print(f'the great result is in {great[0]} with score {great[1]}.')"
   ]
  },
  {
   "cell_type": "code",
   "execution_count": 40,
   "metadata": {},
   "outputs": [],
   "source": [
    "# generate prediction to test data\n",
    "\n",
    "# set new model\n",
    "model = model_2\n",
    "\n",
    "# fit new model to full train data\n",
    "model.fit(x,y)\n",
    "\n",
    "# predict test data\n",
    "p = model.predict(xt)"
   ]
  },
  {
   "cell_type": "code",
   "execution_count": 42,
   "metadata": {},
   "outputs": [],
   "source": [
    "# export submission csv file\n",
    "output = pd.DataFrame({'Id': test.Id,\n",
    "                       'SalePrice': p})\n",
    "output.to_csv('submission.csv', index=False)"
   ]
  }
 ],
 "metadata": {
  "kernelspec": {
   "display_name": "Python 3.9.7 ('base')",
   "language": "python",
   "name": "python3"
  },
  "language_info": {
   "codemirror_mode": {
    "name": "ipython",
    "version": 3
   },
   "file_extension": ".py",
   "mimetype": "text/x-python",
   "name": "python",
   "nbconvert_exporter": "python",
   "pygments_lexer": "ipython3",
   "version": "3.9.7"
  },
  "orig_nbformat": 4,
  "vscode": {
   "interpreter": {
    "hash": "b8e8fcda5ff998491ea47ac16f7b295ce1080ddf19fd589ff7f31d79da49677d"
   }
  }
 },
 "nbformat": 4,
 "nbformat_minor": 2
}
