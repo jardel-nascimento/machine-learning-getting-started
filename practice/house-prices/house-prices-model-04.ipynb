{
 "cells": [
  {
   "cell_type": "code",
   "execution_count": 1,
   "metadata": {},
   "outputs": [],
   "source": [
    "# libraries\n",
    "import pandas as pd"
   ]
  },
  {
   "cell_type": "code",
   "execution_count": 2,
   "metadata": {},
   "outputs": [],
   "source": [
    "# get datasets\n",
    "train = pd.read_csv(\"https://raw.githubusercontent.com/jardel-nascimento/machine-learning-getting-started/main/datasets/housing-prices/train.csv\")\n",
    "test = pd.read_csv(\"https://raw.githubusercontent.com/jardel-nascimento/machine-learning-getting-started/main/datasets/housing-prices/test.csv\")"
   ]
  },
  {
   "cell_type": "code",
   "execution_count": 3,
   "metadata": {},
   "outputs": [],
   "source": [
    "# select the target prediction\n",
    "y = train['SalePrice']"
   ]
  },
  {
   "cell_type": "code",
   "execution_count": 4,
   "metadata": {},
   "outputs": [],
   "source": [
    "# select features\n",
    "features = ['LotArea','YearBuilt','1stFlrSF','2ndFlrSF','FullBath','BedroomAbvGr','TotRmsAbvGrd']\n",
    "x = train[features]"
   ]
  },
  {
   "cell_type": "code",
   "execution_count": null,
   "metadata": {},
   "outputs": [],
   "source": [
    "# review data\n",
    "# print description or statistics from X\n",
    "print(x.describe().T)\n",
    "print('\\n\\n')\n",
    "\n",
    "# print the top few lines\n",
    "print(x.head())"
   ]
  },
  {
   "cell_type": "code",
   "execution_count": 5,
   "metadata": {},
   "outputs": [],
   "source": [
    "# split train validation\n",
    "from sklearn.model_selection import train_test_split as tts\n",
    "tx, vx, ty, vy = tts(x,y,random_state=0)"
   ]
  },
  {
   "cell_type": "code",
   "execution_count": 9,
   "metadata": {},
   "outputs": [],
   "source": [
    "# define the model and validation\n",
    "from sklearn.tree import DecisionTreeRegressor as dtr\n",
    "from sklearn.metrics import mean_absolute_error as mae"
   ]
  },
  {
   "cell_type": "code",
   "execution_count": 17,
   "metadata": {},
   "outputs": [],
   "source": [
    "# create function to compare scores by max leafs\n",
    "def get_mae(leaf_nodes,tx,vx,ty,vy):\n",
    "    # set the model\n",
    "    model = dtr(max_leaf_nodes=leaf_nodes, random_state=0)\n",
    "    # fit model\n",
    "    model.fit(tx,ty)\n",
    "    # predict\n",
    "    vp = model.predict(vx)\n",
    "    # define validation\n",
    "    return(mae(vy, vp))"
   ]
  },
  {
   "cell_type": "code",
   "execution_count": 27,
   "metadata": {},
   "outputs": [
    {
     "name": "stdout",
     "output_type": "stream",
     "text": [
      "nodes: 5 \t\t mae: 35190.33670788684\n",
      "nodes: 10 \t\t mae: 30616.34246307534\n",
      "nodes: 15 \t\t mae: 29666.693434223555\n",
      "nodes: 20 \t\t mae: 29206.714769038022\n",
      "nodes: 25 \t\t mae: 28501.887126575195\n",
      "nodes: 30 \t\t mae: 28302.01671291155\n",
      "nodes: 35 \t\t mae: 27556.9435800501\n",
      "nodes: 40 \t\t mae: 27570.287821320566\n",
      "nodes: 45 \t\t mae: 27531.646484135945\n",
      "nodes: 50 \t\t mae: 27825.888386265695\n",
      "nodes: 55 \t\t mae: 27881.12256760947\n",
      "nodes: 60 \t\t mae: 28072.610258049415\n",
      "nodes: 65 \t\t mae: 27976.76593264674\n",
      "nodes: 500 \t\t mae: 32662.00407479887\n",
      "nodes: 5000 \t\t mae: 33382.79452054795\n"
     ]
    }
   ],
   "source": [
    "# compare mae for the diferent max leafs values\n",
    "for leaf_nodes in [5,10,15,20,25,30,35,40,45,50,55,60,65,500, 5000]:\n",
    "    my_mae = get_mae(leaf_nodes,tx,vx,ty,vy)\n",
    "    print(f'nodes: {leaf_nodes} \\t\\t mae: {my_mae}')"
   ]
  },
  {
   "cell_type": "code",
   "execution_count": null,
   "metadata": {},
   "outputs": [],
   "source": [
    "# the best mae is with 45 max leaf nodes parameter."
   ]
  }
 ],
 "metadata": {
  "kernelspec": {
   "display_name": "Python 3.9.7 ('base')",
   "language": "python",
   "name": "python3"
  },
  "language_info": {
   "codemirror_mode": {
    "name": "ipython",
    "version": 3
   },
   "file_extension": ".py",
   "mimetype": "text/x-python",
   "name": "python",
   "nbconvert_exporter": "python",
   "pygments_lexer": "ipython3",
   "version": "3.9.7"
  },
  "orig_nbformat": 4,
  "vscode": {
   "interpreter": {
    "hash": "b8e8fcda5ff998491ea47ac16f7b295ce1080ddf19fd589ff7f31d79da49677d"
   }
  }
 },
 "nbformat": 4,
 "nbformat_minor": 2
}
