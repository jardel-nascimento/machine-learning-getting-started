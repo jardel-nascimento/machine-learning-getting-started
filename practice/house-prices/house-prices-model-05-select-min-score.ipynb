{
 "cells": [
  {
   "cell_type": "code",
   "execution_count": 1,
   "metadata": {},
   "outputs": [],
   "source": [
    "# libraries\n",
    "import pandas as pd"
   ]
  },
  {
   "cell_type": "code",
   "execution_count": 2,
   "metadata": {},
   "outputs": [],
   "source": [
    "# get datasets\n",
    "train = pd.read_csv(\"https://raw.githubusercontent.com/jardel-nascimento/machine-learning-getting-started/main/datasets/housing-prices/train.csv\")\n",
    "test = pd.read_csv(\"https://raw.githubusercontent.com/jardel-nascimento/machine-learning-getting-started/main/datasets/housing-prices/test.csv\")"
   ]
  },
  {
   "cell_type": "code",
   "execution_count": 3,
   "metadata": {},
   "outputs": [],
   "source": [
    "# select the target prediction\n",
    "y = train['SalePrice']"
   ]
  },
  {
   "cell_type": "code",
   "execution_count": 4,
   "metadata": {},
   "outputs": [],
   "source": [
    "# select features\n",
    "features = ['LotArea','YearBuilt','1stFlrSF','2ndFlrSF','FullBath','BedroomAbvGr','TotRmsAbvGrd']\n",
    "x = train[features]"
   ]
  },
  {
   "cell_type": "code",
   "execution_count": 5,
   "metadata": {},
   "outputs": [
    {
     "name": "stdout",
     "output_type": "stream",
     "text": [
      "               count          mean          std     min     25%     50%  \\\n",
      "LotArea       1460.0  10516.828082  9981.264932  1300.0  7553.5  9478.5   \n",
      "YearBuilt     1460.0   1971.267808    30.202904  1872.0  1954.0  1973.0   \n",
      "1stFlrSF      1460.0   1162.626712   386.587738   334.0   882.0  1087.0   \n",
      "2ndFlrSF      1460.0    346.992466   436.528436     0.0     0.0     0.0   \n",
      "FullBath      1460.0      1.565068     0.550916     0.0     1.0     2.0   \n",
      "BedroomAbvGr  1460.0      2.866438     0.815778     0.0     2.0     3.0   \n",
      "TotRmsAbvGrd  1460.0      6.517808     1.625393     2.0     5.0     6.0   \n",
      "\n",
      "                   75%       max  \n",
      "LotArea       11601.50  215245.0  \n",
      "YearBuilt      2000.00    2010.0  \n",
      "1stFlrSF       1391.25    4692.0  \n",
      "2ndFlrSF        728.00    2065.0  \n",
      "FullBath          2.00       3.0  \n",
      "BedroomAbvGr      3.00       8.0  \n",
      "TotRmsAbvGrd      7.00      14.0  \n",
      "\n",
      "\n",
      "\n",
      "   LotArea  YearBuilt  1stFlrSF  2ndFlrSF  FullBath  BedroomAbvGr  \\\n",
      "0     8450       2003       856       854         2             3   \n",
      "1     9600       1976      1262         0         2             3   \n",
      "2    11250       2001       920       866         2             3   \n",
      "3     9550       1915       961       756         1             3   \n",
      "4    14260       2000      1145      1053         2             4   \n",
      "\n",
      "   TotRmsAbvGrd  \n",
      "0             8  \n",
      "1             6  \n",
      "2             6  \n",
      "3             7  \n",
      "4             9  \n"
     ]
    }
   ],
   "source": [
    "# review data\n",
    "# print description or statistics from X\n",
    "print(x.describe().T)\n",
    "print('\\n\\n')\n",
    "\n",
    "# print the top few lines\n",
    "print(x.head())"
   ]
  },
  {
   "cell_type": "code",
   "execution_count": 6,
   "metadata": {},
   "outputs": [],
   "source": [
    "# split train validation\n",
    "from sklearn.model_selection import train_test_split as tts\n",
    "tx, vx, ty, vy = tts(x,y,random_state=0)"
   ]
  },
  {
   "cell_type": "code",
   "execution_count": 7,
   "metadata": {},
   "outputs": [],
   "source": [
    "# define the model and validation\n",
    "from sklearn.tree import DecisionTreeRegressor as dtr\n",
    "from sklearn.metrics import mean_absolute_error as mae"
   ]
  },
  {
   "cell_type": "code",
   "execution_count": 8,
   "metadata": {},
   "outputs": [],
   "source": [
    "# create function to compare scores by max leafs\n",
    "def get_mae(leaf_nodes,tx,vx,ty,vy):\n",
    "    # set the model\n",
    "    model = dtr(max_leaf_nodes=leaf_nodes, random_state=0)\n",
    "    # fit model\n",
    "    model.fit(tx,ty)\n",
    "    # predict\n",
    "    vp = model.predict(vx)\n",
    "    # define validation\n",
    "    return(mae(vy, vp))"
   ]
  },
  {
   "cell_type": "code",
   "execution_count": 24,
   "metadata": {},
   "outputs": [],
   "source": [
    "# compare mae for the diferent max leafs values\n",
    "df_mae = []\n",
    "df_nodes = []\n",
    "for leaf_nodes in range(2,5002, 2):\n",
    "    df_mae.append(get_mae(leaf_nodes,tx,vx,ty,vy))\n",
    "    df_nodes.append(leaf_nodes)"
   ]
  },
  {
   "cell_type": "code",
   "execution_count": 25,
   "metadata": {},
   "outputs": [
    {
     "name": "stdout",
     "output_type": "stream",
     "text": [
      "nodes       82.000000\n",
      "mae      27203.783574\n",
      "Name: 40, dtype: float64\n"
     ]
    }
   ],
   "source": [
    "# select max leaf nodes for minimum mae\n",
    "output = pd.DataFrame({'nodes': df_nodes, 'mae': df_mae})\n",
    "print(output.loc[output.query('mae != 0')['mae'].idxmin()])"
   ]
  }
 ],
 "metadata": {
  "kernelspec": {
   "display_name": "Python 3.9.7 ('base')",
   "language": "python",
   "name": "python3"
  },
  "language_info": {
   "codemirror_mode": {
    "name": "ipython",
    "version": 3
   },
   "file_extension": ".py",
   "mimetype": "text/x-python",
   "name": "python",
   "nbconvert_exporter": "python",
   "pygments_lexer": "ipython3",
   "version": "3.9.7"
  },
  "orig_nbformat": 4,
  "vscode": {
   "interpreter": {
    "hash": "b8e8fcda5ff998491ea47ac16f7b295ce1080ddf19fd589ff7f31d79da49677d"
   }
  }
 },
 "nbformat": 4,
 "nbformat_minor": 2
}
