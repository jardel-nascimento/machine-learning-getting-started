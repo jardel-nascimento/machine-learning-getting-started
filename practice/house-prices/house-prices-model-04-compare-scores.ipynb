{
 "cells": [
  {
   "cell_type": "code",
   "execution_count": 1,
   "metadata": {},
   "outputs": [],
   "source": [
    "# libraries\n",
    "import pandas as pd"
   ]
  },
  {
   "cell_type": "code",
   "execution_count": 2,
   "metadata": {},
   "outputs": [],
   "source": [
    "# get datasets\n",
    "train = pd.read_csv(\"https://raw.githubusercontent.com/jardel-nascimento/machine-learning-getting-started/main/datasets/housing-prices/train.csv\")\n",
    "test = pd.read_csv(\"https://raw.githubusercontent.com/jardel-nascimento/machine-learning-getting-started/main/datasets/housing-prices/test.csv\")"
   ]
  },
  {
   "cell_type": "code",
   "execution_count": 3,
   "metadata": {},
   "outputs": [],
   "source": [
    "# select the target prediction\n",
    "y = train['SalePrice']"
   ]
  },
  {
   "cell_type": "code",
   "execution_count": 4,
   "metadata": {},
   "outputs": [],
   "source": [
    "# select features\n",
    "features = ['LotArea','YearBuilt','1stFlrSF','2ndFlrSF','FullBath','BedroomAbvGr','TotRmsAbvGrd']\n",
    "x = train[features]"
   ]
  },
  {
   "cell_type": "code",
   "execution_count": 5,
   "metadata": {},
   "outputs": [
    {
     "name": "stdout",
     "output_type": "stream",
     "text": [
      "               count          mean          std     min     25%     50%  \\\n",
      "LotArea       1460.0  10516.828082  9981.264932  1300.0  7553.5  9478.5   \n",
      "YearBuilt     1460.0   1971.267808    30.202904  1872.0  1954.0  1973.0   \n",
      "1stFlrSF      1460.0   1162.626712   386.587738   334.0   882.0  1087.0   \n",
      "2ndFlrSF      1460.0    346.992466   436.528436     0.0     0.0     0.0   \n",
      "FullBath      1460.0      1.565068     0.550916     0.0     1.0     2.0   \n",
      "BedroomAbvGr  1460.0      2.866438     0.815778     0.0     2.0     3.0   \n",
      "TotRmsAbvGrd  1460.0      6.517808     1.625393     2.0     5.0     6.0   \n",
      "\n",
      "                   75%       max  \n",
      "LotArea       11601.50  215245.0  \n",
      "YearBuilt      2000.00    2010.0  \n",
      "1stFlrSF       1391.25    4692.0  \n",
      "2ndFlrSF        728.00    2065.0  \n",
      "FullBath          2.00       3.0  \n",
      "BedroomAbvGr      3.00       8.0  \n",
      "TotRmsAbvGrd      7.00      14.0  \n",
      "\n",
      "\n",
      "\n",
      "   LotArea  YearBuilt  1stFlrSF  2ndFlrSF  FullBath  BedroomAbvGr  \\\n",
      "0     8450       2003       856       854         2             3   \n",
      "1     9600       1976      1262         0         2             3   \n",
      "2    11250       2001       920       866         2             3   \n",
      "3     9550       1915       961       756         1             3   \n",
      "4    14260       2000      1145      1053         2             4   \n",
      "\n",
      "   TotRmsAbvGrd  \n",
      "0             8  \n",
      "1             6  \n",
      "2             6  \n",
      "3             7  \n",
      "4             9  \n"
     ]
    }
   ],
   "source": [
    "# review data\n",
    "# print description or statistics from X\n",
    "print(x.describe().T)\n",
    "print('\\n\\n')\n",
    "\n",
    "# print the top few lines\n",
    "print(x.head())"
   ]
  },
  {
   "cell_type": "code",
   "execution_count": 6,
   "metadata": {},
   "outputs": [],
   "source": [
    "# split train validation\n",
    "from sklearn.model_selection import train_test_split as tts\n",
    "tx, vx, ty, vy = tts(x,y,random_state=0)"
   ]
  },
  {
   "cell_type": "code",
   "execution_count": 7,
   "metadata": {},
   "outputs": [],
   "source": [
    "# define the model and validation\n",
    "from sklearn.tree import DecisionTreeRegressor as dtr\n",
    "from sklearn.metrics import mean_absolute_error as mae"
   ]
  },
  {
   "cell_type": "code",
   "execution_count": 8,
   "metadata": {},
   "outputs": [],
   "source": [
    "# create function to compare scores by max leafs\n",
    "def get_mae(leaf_nodes,tx,vx,ty,vy):\n",
    "    # set the model\n",
    "    model = dtr(max_leaf_nodes=leaf_nodes, random_state=0)\n",
    "    # fit model\n",
    "    model.fit(tx,ty)\n",
    "    # predict\n",
    "    vp = model.predict(vx)\n",
    "    # define validation\n",
    "    return(mae(vy, vp))"
   ]
  },
  {
   "cell_type": "code",
   "execution_count": 15,
   "metadata": {},
   "outputs": [
    {
     "name": "stdout",
     "output_type": "stream",
     "text": [
      "nodes: 5 \t\t mae: 35190.33670788684\n",
      "nodes: 20 \t\t mae: 29206.714769038022\n",
      "nodes: 35 \t\t mae: 27556.9435800501\n",
      "nodes: 50 \t\t mae: 27825.888386265695\n",
      "nodes: 65 \t\t mae: 27976.76593264674\n",
      "nodes: 80 \t\t mae: 27280.23209035945\n",
      "nodes: 95 \t\t mae: 28503.81217468655\n",
      "nodes: 110 \t\t mae: 28492.776203981135\n",
      "nodes: 125 \t\t mae: 29017.569478735135\n",
      "nodes: 140 \t\t mae: 29419.11030665828\n",
      "nodes: 155 \t\t mae: 29716.832829801515\n",
      "nodes: 170 \t\t mae: 29490.96263790455\n",
      "nodes: 185 \t\t mae: 29735.53805833158\n",
      "nodes: 200 \t\t mae: 30281.282842731143\n",
      "nodes: 215 \t\t mae: 30346.654244456786\n",
      "nodes: 230 \t\t mae: 31052.019044353237\n",
      "nodes: 245 \t\t mae: 31614.263046725366\n",
      "nodes: 260 \t\t mae: 31920.383621014094\n",
      "nodes: 275 \t\t mae: 32102.210040887974\n",
      "nodes: 290 \t\t mae: 32199.496091483456\n",
      "nodes: 305 \t\t mae: 32190.537450302876\n",
      "nodes: 320 \t\t mae: 32099.666689087495\n",
      "nodes: 335 \t\t mae: 32238.12602066099\n",
      "nodes: 350 \t\t mae: 32251.311228717772\n",
      "nodes: 365 \t\t mae: 32276.780517801213\n",
      "nodes: 380 \t\t mae: 32228.921797526054\n",
      "nodes: 395 \t\t mae: 32212.65324101648\n",
      "nodes: 410 \t\t mae: 32343.056565652267\n",
      "nodes: 425 \t\t mae: 32374.68890420413\n",
      "nodes: 440 \t\t mae: 32529.983935732722\n",
      "nodes: 455 \t\t mae: 32683.981950424008\n",
      "nodes: 470 \t\t mae: 32693.823502935422\n",
      "nodes: 485 \t\t mae: 32768.485048923685\n",
      "nodes: 500 \t\t mae: 32662.00407479887\n"
     ]
    }
   ],
   "source": [
    "# compare mae for the diferent max leafs values\n",
    "for leaf_nodes in range(5,505, 15):\n",
    "    my_mae = get_mae(leaf_nodes,tx,vx,ty,vy)\n",
    "    print(f'nodes: {leaf_nodes} \\t\\t mae: {my_mae}')"
   ]
  }
 ],
 "metadata": {
  "kernelspec": {
   "display_name": "Python 3.9.7 ('base')",
   "language": "python",
   "name": "python3"
  },
  "language_info": {
   "codemirror_mode": {
    "name": "ipython",
    "version": 3
   },
   "file_extension": ".py",
   "mimetype": "text/x-python",
   "name": "python",
   "nbconvert_exporter": "python",
   "pygments_lexer": "ipython3",
   "version": "3.9.7"
  },
  "orig_nbformat": 4,
  "vscode": {
   "interpreter": {
    "hash": "b8e8fcda5ff998491ea47ac16f7b295ce1080ddf19fd589ff7f31d79da49677d"
   }
  }
 },
 "nbformat": 4,
 "nbformat_minor": 2
}
